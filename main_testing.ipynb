{
 "cells": [
  {
   "cell_type": "code",
   "execution_count": 2,
   "metadata": {},
   "outputs": [
    {
     "name": "stdout",
     "output_type": "stream",
     "text": [
      "Generating 33600 combinations\n",
      "Done\n",
      "Generating 33600 combinations\n"
     ]
    },
    {
     "ename": "AttributeError",
     "evalue": "'Stats' object has no attribute 'equip'",
     "output_type": "error",
     "traceback": [
      "\u001b[1;31m---------------------------------------------------------------------------\u001b[0m",
      "\u001b[1;31mAttributeError\u001b[0m                            Traceback (most recent call last)",
      "Cell \u001b[1;32mIn[2], line 32\u001b[0m\n\u001b[0;32m     30\u001b[0m results \u001b[39m=\u001b[39m []\n\u001b[0;32m     31\u001b[0m \u001b[39mfor\u001b[39;00m item \u001b[39min\u001b[39;00m items:\n\u001b[1;32m---> 32\u001b[0m     results\u001b[39m.\u001b[39mappend(character\u001b[39m.\u001b[39mequip(item))\n\u001b[0;32m     33\u001b[0m \u001b[39mprint\u001b[39m(\u001b[39m'\u001b[39m\u001b[39mDone\u001b[39m\u001b[39m'\u001b[39m)\n\u001b[0;32m     35\u001b[0m ordered_res \u001b[39m=\u001b[39m \u001b[39msorted\u001b[39m(results)\n",
      "\u001b[1;31mAttributeError\u001b[0m: 'Stats' object has no attribute 'equip'"
     ]
    }
   ],
   "source": [
    "import numpy as np\n",
    "from itertools import combinations\n",
    "from itertools import product\n",
    "\n",
    "from stats import Stats\n",
    "\n",
    "# Creating an object of the class\n",
    "character = Stats(0, 'character base Stats', (15, 20, 0, 150))\n",
    "\n",
    "dmgs = np.arange(0,15,1)\n",
    "crits = np.arange(0,160,10)\n",
    "maxis = np.arange(0,140,10)\n",
    "crit_dmgs = np.arange(0,50,5)\n",
    "\n",
    "\n",
    "combs = list(product(dmgs, crits, maxis, crit_dmgs))\n",
    "combs_len = len(combs)\n",
    "\n",
    "#   Generating items\n",
    "print(f'Generating {combs_len} combinations')\n",
    "\n",
    "items = []\n",
    "for index, group in enumerate(combs):\n",
    "    items.append(Stats(index, f'random item {index}', group))\n",
    "print('Done')\n",
    "\n",
    "#   Generating items conbinations\n",
    "print(f'Generating {combs_len} combinations')\n",
    "\n",
    "results = []\n",
    "for item in items:\n",
    "    results.append(character.equip(item))\n",
    "print('Done')\n",
    "\n",
    "ordered_res = sorted(results)\n",
    "\n",
    "print(Stats.headers())\n",
    "print(ordered_res[0])\n",
    "print(ordered_res[-1])"
   ]
  },
  {
   "cell_type": "code",
   "execution_count": 1,
   "metadata": {},
   "outputs": [
    {
     "name": "stdout",
     "output_type": "stream",
     "text": [
      "[id]      |name                      |set       |phys_atk  |mag_atk   |phys_def  |mag_def   |hp        |dmg_perc  |critical  |maximize  |crit_dmg  \n",
      "top       |Amethystine Top           |Chrimson  |       500|       500|       500|       500|     10000|         1|        25|        15|         3\n",
      "bottom    |Amethystine Bottom        |Chrimson  |       500|       500|       500|       500|     10000|         1|        25|        15|         3\n",
      "gloves    |Amethystine Gloves        |Chrimson  |       500|       500|       500|       500|     10000|         1|        25|        15|         3\n",
      "shoes     |Amethystine Shoes         |Chrimson  |       500|       500|       500|       500|     10000|         1|        25|        15|         3\n",
      "_Char     |my name is jeff           |          |      3500|      3500|      2500|      2500|    490000|         4|       140|        65|        12\n",
      "\n",
      "\n",
      "\n",
      "[id]      |name                      |set       |phys_atk  |mag_atk   |phys_def  |mag_def   |hp        |dmg_perc  |critical  |maximize  |crit_dmg  \n",
      "top       |Amethystine Top           |Chrimson  |       500|       500|       500|       500|     10000|         1|        25|        15|         3\n",
      "bottom    |Amethystine Bottom        |Chrimson  |       500|       500|       500|       500|     10000|         1|        25|        15|         3\n",
      "gloves    |Amethystine Gloves        |Chrimson  |       500|       500|       500|       500|     10000|         1|        25|        15|         3\n",
      "shoes     |Amethystine Shoes         |Chrimson  |       500|       500|       500|       500|     10000|         1|        25|        15|         3\n",
      "_Char     |my name is jeff           |          |      3500|      3500|      2500|      2500|    490000|         4|     100.0|     58.75|        12\n",
      "\n",
      "\n",
      "\n",
      "[id]      |name                      |set       |phys_atk  |mag_atk   |phys_def  |mag_def   |hp        |dmg_perc  |critical  |maximize  |crit_dmg  \n",
      "top       |Amethystine Top           |Chrimson  |       500|       500|       500|       500|     10000|         1|        25|        15|         3\n",
      "bottom    |Amethystine Bottom        |Chrimson  |       500|       500|       500|       500|     10000|         1|        25|        15|         3\n",
      "gloves    |Amethystine Gloves        |Chrimson  |       500|       500|       500|       500|     10000|         1|        25|        15|         3\n",
      "shoes     |Amethystine Shoes         |Chrimson  |       500|       500|       500|       500|     10000|         1|        25|        15|         3\n",
      "_Char     |my name is jeff           |          |      3500|      3500|      2500|      2500|    490000|         4|     100.0|     58.75|        12\n",
      "\n",
      "\n",
      "\n"
     ]
    },
    {
     "data": {
      "text/plain": [
       "[2.12628, <stats.Character at 0x268903fa410>]"
      ]
     },
     "execution_count": 1,
     "metadata": {},
     "output_type": "execute_result"
    }
   ],
   "source": [
    "%reset -f\n",
    "\n",
    "import numpy as np\n",
    "from itertools import combinations\n",
    "from itertools import product\n",
    "\n",
    "from stats import Character, Stats\n",
    "\n",
    "# Creating an object of the class\n",
    "\n",
    "base_stats = {  \n",
    "                'physical_attack':  1500,\n",
    "                'magical_attack':   1500,\n",
    "                'physical_defense': 500,\n",
    "                'magical_defense':  500,\n",
    "                'hp':               450000,\n",
    "                \n",
    "                'damage_percent':   0,\n",
    "                'critical':         40,\n",
    "                'maximize':         5,\n",
    "                'critical_damage':  0\n",
    "              }\n",
    "\n",
    "test_stats = {  \n",
    "                'physical_attack':  500,\n",
    "                'magical_attack':   500,\n",
    "                'physical_defense': 500,\n",
    "                'magical_defense':  500,\n",
    "                'hp':               10000,\n",
    "                \n",
    "                'damage_percent':   1,\n",
    "                'critical':         25,\n",
    "                'maximize':         15,\n",
    "                'critical_damage':  3\n",
    "              }\n",
    "\n",
    "top     = Stats('top', 'Amethystine Top', 'Chrimson', test_stats)\n",
    "bottom  = Stats('bottom', 'Amethystine Bottom', 'Chrimson', test_stats)\n",
    "gloves  = Stats('gloves', 'Amethystine Gloves', 'Chrimson', test_stats)\n",
    "shoes   = Stats('shoes', 'Amethystine Shoes', 'Chrimson', test_stats)\n",
    "\n",
    "\n",
    "\n",
    "jeff = Character('_Char', 'my name is jeff', '', base_stats)\n",
    "\n",
    "\n",
    "jeff.equip(top, 'top')\n",
    "jeff.equip(bottom, 'bottom')\n",
    "jeff.equip(gloves, 'gloves')\n",
    "jeff.equip(shoes, 'shoes')\n",
    "\n",
    "\n",
    "\n",
    "unnormalized = jeff.calculate()\n",
    "print(unnormalized)\n",
    "\n",
    "normalized = unnormalized.apply_normalization()\n",
    "print(normalized)\n",
    "\n",
    "set = unnormalized.apply_sets()\n",
    "print(set)\n",
    "\n",
    "normalized.get_damage()\n"
   ]
  }
 ],
 "metadata": {
  "kernelspec": {
   "display_name": "full",
   "language": "python",
   "name": "python3"
  },
  "language_info": {
   "codemirror_mode": {
    "name": "ipython",
    "version": 3
   },
   "file_extension": ".py",
   "mimetype": "text/x-python",
   "name": "python",
   "nbconvert_exporter": "python",
   "pygments_lexer": "ipython3",
   "version": "3.11.2"
  },
  "orig_nbformat": 4
 },
 "nbformat": 4,
 "nbformat_minor": 2
}
