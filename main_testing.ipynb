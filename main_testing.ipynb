{
 "cells": [
  {
   "cell_type": "code",
   "execution_count": 2,
   "metadata": {},
   "outputs": [
    {
     "name": "stdout",
     "output_type": "stream",
     "text": [
      "Fetching items from db: Started\n",
      "36 [<stats.Stats object at 0x0000020B31AEB6D0>, <stats.Stats object at 0x0000020B30CDA790>, <stats.Stats object at 0x0000020B30C81810>, <stats.Stats object at 0x0000020B31020910>, <stats.Stats object at 0x0000020B31AEB710>, <stats.Stats object at 0x0000020B317D93D0>, <stats.Stats object at 0x0000020B30607610>, <stats.Stats object at 0x0000020B31AEB750>, <stats.Stats object at 0x0000020B30CD9A10>, <stats.Stats object at 0x0000020B31AEB690>, <stats.Stats object at 0x0000020B30E64C50>, <stats.Stats object at 0x0000020B31AEAF50>, <stats.Stats object at 0x0000020B31AFCED0>, <stats.Stats object at 0x0000020B31AFD010>, <stats.Stats object at 0x0000020B31AFD450>, <stats.Stats object at 0x0000020B31AFD550>, <stats.Stats object at 0x0000020B31AFD5D0>, <stats.Stats object at 0x0000020B31AFD650>, <stats.Stats object at 0x0000020B31AFD810>, <stats.Stats object at 0x0000020B31AFD890>, <stats.Stats object at 0x0000020B31AFDC90>, <stats.Stats object at 0x0000020B31AFD990>, <stats.Stats object at 0x0000020B31AFD910>, <stats.Stats object at 0x0000020B31AFDAD0>, <stats.Stats object at 0x0000020B31AFDB90>, <stats.Stats object at 0x0000020B31AFDCD0>, <stats.Stats object at 0x0000020B31AFDC50>, <stats.Stats object at 0x0000020B31AFD6D0>, <stats.Stats object at 0x0000020B31AFDD90>, <stats.Stats object at 0x0000020B31AFD690>, <stats.Stats object at 0x0000020B31AFDE90>, <stats.Stats object at 0x0000020B31AFDF10>, <stats.Stats object at 0x0000020B31AFDF90>, <stats.Stats object at 0x0000020B31AFE010>, <stats.Stats object at 0x0000020B31AFE090>, <stats.Stats object at 0x0000020B31AFE110>]\n",
      "slot:   2, choices:  2\n",
      "slot:   3, choices:  4\n",
      "slot:   4, choices:  4\n",
      "slot:   5, choices:  4\n",
      "slot:   6, choices:  4\n",
      "slot:   7, choices:  2\n",
      "slot:   8, choices:  2\n",
      "slot:   9, choices:  2\n",
      "slot:  10, choices:  2\n",
      "slot:  11, choices:  2\n",
      "slot:  14, choices:  2\n",
      "slot:  15, choices:  1\n",
      "slot:  19, choices:  1\n",
      "slot:  20, choices:  3\n",
      "slot:  22, choices:  1\n",
      "Items combinations: 98304\n",
      "Fetching items from db: Completed (0.00900721549987793s)\n",
      "Size all_items_ids: 1168\n",
      "Size all_items: 376\n"
     ]
    }
   ],
   "source": [
    "%reset -f\n",
    "\n",
    "from functools import reduce\n",
    "import sys\n",
    "import time\n",
    "import math\n",
    "import numpy as np\n",
    "import pandas as pd\n",
    "from itertools import combinations_with_replacement\n",
    "from datetime import datetime\n",
    "\n",
    "from stats import Stats\n",
    "from character import Character\n",
    "\n",
    "# File path and name\n",
    "file_path = \"res.txt\"\n",
    "SLOT_NUMER = 37\n",
    "\n",
    "#============getting all the items from the db.csv file=========================#\n",
    "print(f'Fetching items from db: Started')\n",
    "start_time = time.time()\n",
    "\n",
    "all_items       = []\n",
    "all_items_ids   = { k:[] for k in range(SLOT_NUMER)}\n",
    "\n",
    "df = pd.read_csv('db.csv')\n",
    "for index, row in df.iterrows():\n",
    "    d = row.dropna().to_dict()\n",
    "    \n",
    "    all_items_ids[d['slot']].append(d['id'])\n",
    "    all_items.append(Stats(d['slot'], d['name'], d['set'],attributes=d))\n",
    "print(len(all_items), all_items)\n",
    "#=======filter items_in_slot and prepare for the combination function===========#\n",
    "all_items_ids_filtered = list(filter(None, all_items_ids.values()))\n",
    "\n",
    "#================print some info about the objects loaded=======================#\n",
    "for slot, item in all_items_ids.items():\n",
    "    if len(item) > 0:\n",
    "        print(f'slot: {slot:3}, choices:{len(item):3}')\n",
    "all_items_ids_filtered_len = reduce(lambda a, b: a*len(b), [1,*all_items_ids_filtered])\n",
    "print(f'Items combinations: {all_items_ids_filtered_len}')\n",
    "\n",
    "print(f'Fetching items from db: Completed ({time.time()-start_time}s)')\n",
    "print(f'Size all_items_ids: {sys.getsizeof(all_items_ids)}')\n",
    "print(f'Size all_items: {sys.getsizeof(all_items)}')"
   ]
  },
  {
   "cell_type": "code",
   "execution_count": 3,
   "metadata": {},
   "outputs": [
    {
     "name": "stdout",
     "output_type": "stream",
     "text": [
      "Generating sockets combinations: Started\n",
      "Socket combinations: 6\n",
      "6\n",
      "6\n",
      "6\n",
      "Generating sockets combinations: Completed (0.0s)\n",
      "Size itemized_sockets: 120\n"
     ]
    }
   ],
   "source": [
    "#==============base stats for a specific class (not present in db)==============#\n",
    "base_class_stats    = { 'phy_atk':1202,\t'mag_atk':1202,\t'phy_def':301,\t'mag_def':301,\t'hp':157000,\n",
    "                        'dmg_per':      18,  \n",
    "                        'dmg_per_m':    0,\n",
    "                        'crit':         25,        \n",
    "                        'maxi':         0,        \n",
    "                        'crit_dmg':     25,\n",
    "\n",
    "                        'pola':         0,\n",
    "                        'specific':     0,\n",
    "                        'all_s_dmg':    3,\n",
    "                        'boss_dmg':     0,\n",
    "                        'adapt':        0,\n",
    "                        'cdr':          0\n",
    "                       }\n",
    "\n",
    "#===============================force passives==================================#\n",
    "head_hunter = {'dmg_per':-24, 'boss_dmg':80}\n",
    "\n",
    "\n",
    "#============================sockets combinations===============================#\n",
    "avail_sockets = [  \n",
    "                    Stats('0', 'socket', attributes={'maxi':12}),\n",
    "                    Stats('0', 'socket', attributes={'crit':12}),\n",
    "                    Stats('0', 'socket', attributes={'boss_dmg':5})\n",
    "                ]\n",
    "\n",
    "print(f'Generating sockets combinations: Started')\n",
    "start_time = time.time()\n",
    "# generate combinations\n",
    "sockets_combinations = list(combinations_with_replacement(avail_sockets, 2))\n",
    "\n",
    "sockets_combinations_len = len(sockets_combinations)\n",
    "print(f'Socket combinations: {sockets_combinations_len}')\n",
    "\n",
    "# generate item for each socket combination, grouping sockets into a single item\n",
    "itemized_sockets = []\n",
    "for sockets in sockets_combinations:\n",
    "    tot_socket = Stats('0', 'SOCKETS')\n",
    "    for socket in sockets:\n",
    "        tot_socket += socket\n",
    "    itemized_sockets.append(tot_socket)\n",
    "\n",
    "print(len(itemized_sockets))\n",
    "itemized_sockets = list(filter(Stats.maxed_crit, itemized_sockets))\n",
    "print(len(itemized_sockets))\n",
    "itemized_sockets = list(filter(Stats.maxed_maxi, itemized_sockets))\n",
    "print(len(itemized_sockets))\n",
    "\n",
    "itemized_sockets_ids = np.arange(len(itemized_sockets))\n",
    "\n",
    "print(f'Generating sockets combinations: Completed ({time.time()-start_time}s)')\n",
    "print(f'Size itemized_sockets: {sys.getsizeof(itemized_sockets)}')"
   ]
  },
  {
   "cell_type": "code",
   "execution_count": 4,
   "metadata": {},
   "outputs": [
    {
     "name": "stdout",
     "output_type": "stream",
     "text": [
      "Generating Items combinations, Starting\n",
      "[[21  0  1 ... 25 35  0]\n",
      " [21  4  1 ... 25 35  0]\n",
      " [21  8  1 ... 25 35  0]\n",
      " ...\n",
      " [31  4 13 ... 34 35  5]\n",
      " [31  8 13 ... 34 35  5]\n",
      " [31 12 13 ... 34 35  5]]\n",
      "Total combinations: 589824\n",
      "Total combinations as expected: True\n",
      "Combinations, Complete (0.17607378959655762s)\n",
      "Size combs: 36864.0\n"
     ]
    }
   ],
   "source": [
    "#=========================combinatory for all items=============================#\n",
    "print('Generating Items combinations, Starting')\n",
    "start_time = time.time()\n",
    "\n",
    "combs = np.array(np.meshgrid(*all_items_ids_filtered, itemized_sockets_ids))\n",
    "combs = combs.T.reshape(-1,len([*all_items_ids_filtered, itemized_sockets_ids]))\n",
    "print(combs)\n",
    "\n",
    "#combs = list(product(*list(items_in_slot_filtered), itemized_sockets))\n",
    "\n",
    "#combs = random.sample(combs, 100000)\n",
    "#combs = combs[::500]\n",
    "\n",
    "combs_len = len(combs)\n",
    "print(f'Total combinations: {combs_len}')\n",
    "\n",
    "print(f'Total combinations as expected: {combs_len==(all_items_ids_filtered_len*sockets_combinations_len)}')\n",
    "print(f'Combinations, Complete ({time.time()-start_time}s)')\n",
    "\n",
    "print(f'Size combs: {combs.nbytes / 1024}')\n",
    "\n"
   ]
  },
  {
   "cell_type": "code",
   "execution_count": 19,
   "metadata": {},
   "outputs": [
    {
     "name": "stdout",
     "output_type": "stream",
     "text": [
      "Combination evaluation, Starting...\n",
      "Combination evaluation, Complete (99.49585223197937s)\n",
      "Size mul_list: 4.5Mb\n"
     ]
    }
   ],
   "source": [
    "#=============================create specific items ============================#\n",
    "base_class_stats_item       = Stats('base','class base stats','',attributes=base_class_stats)\n",
    "head_hunter_force_passive   = Stats('HH','unique HH','',attributes=head_hunter)\n",
    "\n",
    "new_character = Character('Char', '')\n",
    "new_character = new_character.equip(base_class_stats_item, base_class_stats_item.slot)\n",
    "new_character = new_character.equip(head_hunter_force_passive, head_hunter_force_passive.slot)\n",
    "\n",
    "print(f'Combination evaluation, Starting...')\n",
    "start_time = time.time()\n",
    "mul_list = np.empty(combs_len)\n",
    "\n",
    "for i, items in enumerate(combs):\n",
    "    # create a new \"character\" for each item combination\n",
    "    new_character.name = 'jeff_%s'%(i)\n",
    "    new_character.items = {}\n",
    "    new_character.attributes = {}\n",
    "\n",
    "    # add the sockets item with is a Stats object\n",
    "    new_character.equip(itemized_sockets[items[-1]], \n",
    "                        itemized_sockets[items[-1]].slot)\n",
    "    \n",
    "    # equip all itemsD\n",
    "    for j in items[:-1]:\n",
    "        new_character.equip(all_items[j], \n",
    "                            all_items[j].slot)\n",
    "    \n",
    "    mul_list[i] = new_character.get_mul()\n",
    "    \n",
    "    print(i/combs_len,end='\\r')\n",
    "\n",
    "print(f'Combination evaluation, Complete ({time.time()-start_time}s)')\n",
    "print(f'Size mul_list: {mul_list.nbytes / (1024.0 ** 2)}Mb')\n"
   ]
  },
  {
   "cell_type": "code",
   "execution_count": 26,
   "metadata": {},
   "outputs": [
    {
     "name": "stdout",
     "output_type": "stream",
     "text": [
      "[ 6.54999093  6.75349501  7.24468763 ... 11.13896021 11.13273436\n",
      " 11.17851495]\n",
      "69627\n",
      "best_comb [21 12 13 14 15 26 27 28 19 20 22 23 24 34 35  0]\n",
      "(11.007070629865396, 60153.64099221439, <character.Character object at 0x0000020B354DDA90>)\n"
     ]
    }
   ],
   "source": [
    "#==============apply the damage calculation to each character===================#\n",
    "\n",
    "#mul_list.sort()\n",
    "print(mul_list)\n",
    "\n",
    "mi = np.argmax([mul_list])\n",
    "print(mi)\n",
    "\n",
    "best_comb = combs[mi]\n",
    "print('best_comb',best_comb)\n",
    "\n",
    "\n",
    "best_character = Character('Char', '')\n",
    "base_class_stats_item = Stats('base','class base stats','',attributes=base_class_stats)\n",
    "head_hunter_force_passive = Stats('HH','unique HH','',attributes=head_hunter)\n",
    "\n",
    "best_character.equip(base_class_stats_item, base_class_stats_item.slot)\n",
    "best_character.equip(head_hunter_force_passive, head_hunter_force_passive.slot)\n",
    "\n",
    "best_character.equip(   itemized_sockets[best_comb[-1]], \n",
    "                        itemized_sockets[best_comb[-1]].slot)\n",
    "\n",
    "for id in best_comb[:-1]:\n",
    "    best_character.equip(   all_items[id], \n",
    "                            all_items[id].slot)\n",
    "\n",
    "#print(best_character)\n",
    "best = best_character.get_damage()\n",
    "\n",
    "print(best)\n",
    "\n",
    "\n"
   ]
  },
  {
   "cell_type": "code",
   "execution_count": 7,
   "metadata": {},
   "outputs": [
    {
     "name": "stdout",
     "output_type": "stream",
     "text": [
      "DONE\n"
     ]
    }
   ],
   "source": [
    "#=========================save to file best N entries===========================#\n",
    "with open(file_path, \"w\") as file:\n",
    "    file.write(f'Latest update: {datetime.now()}\\n')\n",
    "    \n",
    "    output_string = f\"{math.trunc(best[0]):<10}{math.trunc(best[1]):<10}\\n{best[2]}\\n\"\n",
    "    \n",
    "    file.write(output_string.replace('|0.0','|   '))\n",
    "    \n",
    "print('DONE')"
   ]
  },
  {
   "cell_type": "code",
   "execution_count": 21,
   "metadata": {},
   "outputs": [
    {
     "name": "stdout",
     "output_type": "stream",
     "text": [
      "Index of the greatest float value: 4\n"
     ]
    },
    {
     "data": {
      "text/plain": [
       "5.6"
      ]
     },
     "execution_count": 21,
     "metadata": {},
     "output_type": "execute_result"
    }
   ],
   "source": [
    "import numpy as np\n",
    "\n",
    "# Sample NumPy array\n",
    "np_list = np.array([1.2, 2.8, 3.5, 4.1, 5.6])\n",
    "\n",
    "# Find the index of the maximum value in the array\n",
    "max_index = np.argmax(np_list)\n",
    "\n",
    "print(\"Index of the greatest float value:\", max_index)\n",
    "\n",
    "\n",
    "np_list[max_index]\n"
   ]
  }
 ],
 "metadata": {
  "kernelspec": {
   "display_name": "full",
   "language": "python",
   "name": "python3"
  },
  "language_info": {
   "codemirror_mode": {
    "name": "ipython",
    "version": 3
   },
   "file_extension": ".py",
   "mimetype": "text/x-python",
   "name": "python",
   "nbconvert_exporter": "python",
   "pygments_lexer": "ipython3",
   "version": "3.11.2"
  },
  "orig_nbformat": 4
 },
 "nbformat": 4,
 "nbformat_minor": 2
}
