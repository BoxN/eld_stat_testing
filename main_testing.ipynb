{
 "cells": [
  {
   "cell_type": "code",
   "execution_count": 9,
   "metadata": {},
   "outputs": [
    {
     "name": "stdout",
     "output_type": "stream",
     "text": [
      "Generating 33600 combinations\n",
      "Done\n",
      "Generating 33600 combinations\n",
      "Done\n",
      "[id]\t\t|tot\t|dmg%\t|maxi\t|crit\t|crit_dmg\t\n",
      "[2109]\t\t|0.0288\t|15.00\t|0.00\t|100.00\t|195.00\t\n",
      "[32059]\t\t|3.5153\t|29.00\t|222.50\t|0.00\t|195.00\t\n"
     ]
    }
   ],
   "source": [
    "import numpy as np\n",
    "from itertools import combinations\n",
    "from itertools import product\n",
    "\n",
    "from stats import Stats\n",
    "\n",
    "# Creating an object of the class\n",
    "character = Stats(0, 'character base Stats', (15, 20, 0, 150))\n",
    "\n",
    "dmgs = np.arange(0,15,1)\n",
    "crits = np.arange(0,160,10)\n",
    "maxis = np.arange(0,140,10)\n",
    "crit_dmgs = np.arange(0,50,5)\n",
    "\n",
    "\n",
    "combs = list(product(dmgs, crits, maxis, crit_dmgs))\n",
    "combs_len = len(combs)\n",
    "\n",
    "#   Generating items\n",
    "print(f'Generating {combs_len} combinations')\n",
    "\n",
    "items = []\n",
    "for index, group in enumerate(combs):\n",
    "    items.append(Stats(index, f'random item {index}', group))\n",
    "print('Done')\n",
    "\n",
    "#   Generating items conbinations\n",
    "print(f'Generating {combs_len} combinations')\n",
    "\n",
    "results = []\n",
    "for item in items:\n",
    "    results.append(character.equip(item))\n",
    "print('Done')\n",
    "\n",
    "ordered_res = sorted(results)\n",
    "\n",
    "print(Stats.headers())\n",
    "print(ordered_res[0])\n",
    "print(ordered_res[-1])"
   ]
  },
  {
   "cell_type": "code",
   "execution_count": 7,
   "metadata": {},
   "outputs": [
    {
     "name": "stdout",
     "output_type": "stream",
     "text": [
      "40 60\n",
      "70.0 20\n",
      "80.0 20\n"
     ]
    }
   ],
   "source": [
    "\n",
    "maxi = 0\n",
    "maxi2 = 100\n",
    "for step, normalization in [(40,1), (40,0.75), (40,0.5), (40,0.25)]:\n",
    "    if maxi2 > step:\n",
    "        maxi2 -= step\n",
    "        maxi += step*normalization\n",
    "    else:\n",
    "        maxi += maxi2*normalization\n",
    "        break\n",
    "    print(maxi, maxi2)\n",
    "print(maxi, maxi2)"
   ]
  }
 ],
 "metadata": {
  "kernelspec": {
   "display_name": "full",
   "language": "python",
   "name": "python3"
  },
  "language_info": {
   "codemirror_mode": {
    "name": "ipython",
    "version": 3
   },
   "file_extension": ".py",
   "mimetype": "text/x-python",
   "name": "python",
   "nbconvert_exporter": "python",
   "pygments_lexer": "ipython3",
   "version": "3.11.2"
  },
  "orig_nbformat": 4
 },
 "nbformat": 4,
 "nbformat_minor": 2
}
